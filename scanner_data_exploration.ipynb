{
 "cells": [
  {
   "cell_type": "code",
   "id": "initial_id",
   "metadata": {
    "collapsed": true,
    "ExecuteTime": {
     "end_time": "2025-06-16T02:09:16.360278Z",
     "start_time": "2025-06-16T02:07:53.855499Z"
    }
   },
   "source": [
    "import numpy as np\n",
    "import open3d as o3d\n",
    "import matplotlib.pyplot as plt\n",
    "\n",
    "def load_point_cloud(filename):\n",
    "    if filename.endswith('.ply'):\n",
    "        return o3d.io.read_point_cloud(filename)\n",
    "    elif filename.endswith('.xyz') or filename.endswith('.txt'):\n",
    "        data = np.loadtxt(filename)\n",
    "        pcd = o3d.geometry.PointCloud()\n",
    "        pcd.points = o3d.utility.Vector3dVector(data[:, :3])\n",
    "        if data.shape[1] >= 6:  # If file contains RGB values\n",
    "            pcd.colors = o3d.utility.Vector3dVector(data[:, 3:6]/255.0)\n",
    "        return pcd\n",
    "    else:\n",
    "        raise ValueError(\"Unsupported file format\")\n",
    "\n",
    "def load_mesh(filename):\n",
    "    return o3d.io.read_triangle_mesh(filename)\n",
    "\n",
    "def visualize_geometry(geometry):\n",
    "    viewer = o3d.visualization.Visualizer()\n",
    "    viewer.create_window()\n",
    "    viewer.add_geometry(geometry)\n",
    "\n",
    "    opt = viewer.get_render_option()\n",
    "    opt.background_color = np.asarray([0.5, 0.5, 0.5])\n",
    "    opt.point_size = 1.0\n",
    "\n",
    "    viewer.run()\n",
    "    viewer.destroy_window()\n",
    "\n",
    "def process_point_cloud(pcd):\n",
    "    # Estimate normals\n",
    "    pcd.estimate_normals(search_param=o3d.geometry.KDTreeSearchParamHybrid(\n",
    "        radius=0.1, max_nn=30))\n",
    "\n",
    "    # Remove statistical outliers\n",
    "    cl, ind = pcd.remove_statistical_outlier(nb_neighbors=20, std_ratio=2.0)\n",
    "    return cl\n",
    "\n",
    "def create_mesh_from_point_cloud(pcd):\n",
    "    # Estimate normals if they don't exist\n",
    "    if not pcd.has_normals():\n",
    "        pcd.estimate_normals()\n",
    "\n",
    "    # Create mesh using Poisson surface reconstruction\n",
    "    mesh, densities = o3d.geometry.TriangleMesh.create_from_point_cloud_poisson(\n",
    "        pcd, depth=8, width=0, scale=1.1, linear_fit=False)\n",
    "\n",
    "    return mesh\n",
    "\n",
    "def main():\n",
    "    # Example usage\n",
    "    try:\n",
    "        # Try to load point cloud (replace with your file path)\n",
    "        pcd = load_point_cloud(\"example.ply\")\n",
    "        print(\"Point cloud loaded successfully\")\n",
    "\n",
    "        # Process point cloud\n",
    "        processed_pcd = process_point_cloud(pcd)\n",
    "        print(\"Point cloud processed\")\n",
    "\n",
    "        # Visualize point cloud\n",
    "        print(\"Visualizing point cloud...\")\n",
    "        visualize_geometry(processed_pcd)\n",
    "\n",
    "        # Create and visualize mesh\n",
    "        print(\"Creating mesh from point cloud...\")\n",
    "        mesh = create_mesh_from_point_cloud(processed_pcd)\n",
    "        print(\"Visualizing mesh...\")\n",
    "        visualize_geometry(mesh)\n",
    "\n",
    "    except Exception as e:\n",
    "        print(f\"An error occurred: {str(e)}\")\n",
    "\n",
    "if __name__ == \"__main__\":\n",
    "    main()"
   ],
   "outputs": [
    {
     "name": "stdout",
     "output_type": "stream",
     "text": [
      "Jupyter environment detected. Enabling Open3D WebVisualizer.\n",
      "[Open3D INFO] WebRTC GUI backend enabled.\n",
      "[Open3D INFO] WebRTCWindowSystem: HTTP handshake server disabled.\n",
      "[Open3D WARNING] Read PLY failed: unable to open file: example.ply\n",
      "Point cloud loaded successfully\n",
      "[Open3D WARNING] [KDTreeFlann::SetRawData] Failed due to no data.\n",
      "Point cloud processed\n",
      "Visualizing point cloud...\n",
      "[Open3D WARNING] The number of points is 0 when creating axis-aligned bounding box.\n"
     ]
    },
    {
     "ename": "KeyboardInterrupt",
     "evalue": "",
     "output_type": "error",
     "traceback": [
      "\u001B[31m---------------------------------------------------------------------------\u001B[39m",
      "\u001B[31mKeyboardInterrupt\u001B[39m                         Traceback (most recent call last)",
      "\u001B[36mCell\u001B[39m\u001B[36m \u001B[39m\u001B[32mIn[1]\u001B[39m\u001B[32m, line 78\u001B[39m\n\u001B[32m     75\u001B[39m         \u001B[38;5;28mprint\u001B[39m(\u001B[33mf\u001B[39m\u001B[33m\"\u001B[39m\u001B[33mAn error occurred: \u001B[39m\u001B[38;5;132;01m{\u001B[39;00m\u001B[38;5;28mstr\u001B[39m(e)\u001B[38;5;132;01m}\u001B[39;00m\u001B[33m\"\u001B[39m)\n\u001B[32m     77\u001B[39m \u001B[38;5;28;01mif\u001B[39;00m \u001B[34m__name__\u001B[39m == \u001B[33m\"\u001B[39m\u001B[33m__main__\u001B[39m\u001B[33m\"\u001B[39m:\n\u001B[32m---> \u001B[39m\u001B[32m78\u001B[39m     main()\n",
      "\u001B[36mCell\u001B[39m\u001B[36m \u001B[39m\u001B[32mIn[1]\u001B[39m\u001B[32m, line 66\u001B[39m, in \u001B[36mmain\u001B[39m\u001B[34m()\u001B[39m\n\u001B[32m     64\u001B[39m \u001B[38;5;66;03m# Visualize point cloud\u001B[39;00m\n\u001B[32m     65\u001B[39m \u001B[38;5;28mprint\u001B[39m(\u001B[33m\"\u001B[39m\u001B[33mVisualizing point cloud...\u001B[39m\u001B[33m\"\u001B[39m)\n\u001B[32m---> \u001B[39m\u001B[32m66\u001B[39m visualize_geometry(processed_pcd)\n\u001B[32m     68\u001B[39m \u001B[38;5;66;03m# Create and visualize mesh\u001B[39;00m\n\u001B[32m     69\u001B[39m \u001B[38;5;28mprint\u001B[39m(\u001B[33m\"\u001B[39m\u001B[33mCreating mesh from point cloud...\u001B[39m\u001B[33m\"\u001B[39m)\n",
      "\u001B[36mCell\u001B[39m\u001B[36m \u001B[39m\u001B[32mIn[1]\u001B[39m\u001B[32m, line 31\u001B[39m, in \u001B[36mvisualize_geometry\u001B[39m\u001B[34m(geometry)\u001B[39m\n\u001B[32m     28\u001B[39m opt.point_size = \u001B[32m1.0\u001B[39m\n\u001B[32m     30\u001B[39m viewer.run()\n\u001B[32m---> \u001B[39m\u001B[32m31\u001B[39m viewer.destroy_window()\n",
      "\u001B[31mKeyboardInterrupt\u001B[39m: "
     ]
    }
   ],
   "execution_count": 1
  },
  {
   "metadata": {},
   "cell_type": "code",
   "outputs": [],
   "execution_count": null,
   "source": "!pip install open3d",
   "id": "7f0d9430eec617ff"
  }
 ],
 "metadata": {
  "kernelspec": {
   "display_name": "Python 3",
   "language": "python",
   "name": "python3"
  },
  "language_info": {
   "codemirror_mode": {
    "name": "ipython",
    "version": 2
   },
   "file_extension": ".py",
   "mimetype": "text/x-python",
   "name": "python",
   "nbconvert_exporter": "python",
   "pygments_lexer": "ipython2",
   "version": "2.7.6"
  }
 },
 "nbformat": 4,
 "nbformat_minor": 5
}
